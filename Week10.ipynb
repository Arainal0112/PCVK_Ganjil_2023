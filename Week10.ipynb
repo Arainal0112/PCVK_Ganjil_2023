{
  "nbformat": 4,
  "nbformat_minor": 0,
  "metadata": {
    "colab": {
      "provenance": [],
      "mount_file_id": "16kISUel0-8c3O_IINOeWRoWuBzbVt-nW",
      "authorship_tag": "ABX9TyNnC16blk5I9ksvwlxixNQq",
      "include_colab_link": true
    },
    "kernelspec": {
      "name": "python3",
      "display_name": "Python 3"
    },
    "language_info": {
      "name": "python"
    }
  },
  "cells": [
    {
      "cell_type": "markdown",
      "metadata": {
        "id": "view-in-github",
        "colab_type": "text"
      },
      "source": [
        "<a href=\"https://colab.research.google.com/github/Arainal0112/PCVK_Ganjil_2023/blob/main/Week10.ipynb\" target=\"_parent\"><img src=\"https://colab.research.google.com/assets/colab-badge.svg\" alt=\"Open In Colab\"/></a>"
      ]
    },
    {
      "cell_type": "markdown",
      "source": [
        "# MODUL 10 – GLOBAL THRESHOLDING"
      ],
      "metadata": {
        "id": "eWkCG05uEb0W"
      }
    },
    {
      "cell_type": "markdown",
      "source": [
        "- Nama : Arainal Aldiansyah\n",
        "- Kelas : TI - 3C\n",
        "- Absen : 3"
      ],
      "metadata": {
        "id": "k_OoDjeKEZRf"
      }
    },
    {
      "cell_type": "code",
      "execution_count": 1,
      "metadata": {
        "colab": {
          "base_uri": "https://localhost:8080/"
        },
        "id": "YdPJ8yerDaSS",
        "outputId": "c3a2de77-b315-41bc-ec1f-c041c3374221"
      },
      "outputs": [
        {
          "output_type": "stream",
          "name": "stdout",
          "text": [
            "Drive already mounted at /content/drive; to attempt to forcibly remount, call drive.mount(\"/content/drive\", force_remount=True).\n"
          ]
        }
      ],
      "source": [
        "from google.colab import drive\n",
        "\n",
        "#Akses google drive\n",
        "drive.mount('/content/drive')"
      ]
    }
  ]
}